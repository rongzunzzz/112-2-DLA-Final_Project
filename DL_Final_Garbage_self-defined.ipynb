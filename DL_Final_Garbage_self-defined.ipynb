{
 "cells": [
  {
   "cell_type": "code",
   "execution_count": 1,
   "metadata": {},
   "outputs": [],
   "source": [
    "import torch\n",
    "import torch.nn as nn\n",
    "import torch.optim as optim\n",
    "from torch.utils.data import DataLoader, random_split\n",
    "from torchvision import datasets, transforms\n",
    "\n",
    "# 定义一个新的CNN模型\n",
    "class CustomCNN(nn.Module):\n",
    "    def __init__(self, num_classes=7):\n",
    "        super(CustomCNN, self).__init__()\n",
    "        \n",
    "        self.features = nn.Sequential(\n",
    "            nn.Conv2d(3, 64, kernel_size=3, padding=1),\n",
    "            nn.BatchNorm2d(64),                                 # 我們也有通過Batch Normalization來解決梯度爆炸或消失的問題\n",
    "            nn.ReLU(inplace=True),                              # 我們跑一次模型的執行時間相當久，在我們資料集這麼多張照片的情況下選ReLU能讓整個訓練比較快，嘗試其他Activation Function後，也覺得ReLU的表現很出色\n",
    "            nn.MaxPool2d(kernel_size=2, stride=2),              # MaxPooling因為我們的圖片背景可能比較多noise，所以認為用MaxPooling比較可以抑制這些noise的影響\n",
    "            \n",
    "            nn.Conv2d(64, 128, kernel_size=3, padding=1),\n",
    "            nn.BatchNorm2d(128),\n",
    "            nn.ReLU(inplace=True),\n",
    "            nn.MaxPool2d(kernel_size=2, stride=2),\n",
    "            \n",
    "            nn.Conv2d(128, 256, kernel_size=3, padding=1),\n",
    "            nn.BatchNorm2d(256),\n",
    "            nn.ReLU(inplace=True),\n",
    "            nn.MaxPool2d(kernel_size=2, stride=2),\n",
    "            \n",
    "            nn.Conv2d(256, 512, kernel_size=3, padding=1),\n",
    "            nn.BatchNorm2d(512),\n",
    "            nn.ReLU(inplace=True),\n",
    "            nn.MaxPool2d(kernel_size=2, stride=2)\n",
    "        )\n",
    "        \n",
    "        self.classifier = nn.Sequential(\n",
    "            nn.Dropout(p=0.5),\n",
    "            nn.Linear(8192, 1024),\n",
    "            nn.ReLU(inplace=True),\n",
    "            nn.Dropout(p=0.5),\n",
    "            nn.Linear(1024, num_classes)\n",
    "        )\n",
    "    \n",
    "    def forward(self, x):\n",
    "        x = self.features(x)\n",
    "        x = x.view(x.size(0), -1)\n",
    "        x = self.classifier(x)\n",
    "        return x"
   ]
  },
  {
   "cell_type": "code",
   "execution_count": 2,
   "metadata": {},
   "outputs": [],
   "source": [
    "# 设置超参数\n",
    "batch_size = 64\n",
    "learning_rate = 0.001\n",
    "num_epochs = 20\n",
    "\n",
    "# 数据预处理\n",
    "transform = transforms.Compose([\n",
    "    transforms.Resize((64, 64)),\n",
    "    transforms.ToTensor(),\n",
    "    transforms.Normalize(mean=[0.485, 0.456, 0.406], std=[0.229, 0.224, 0.225])\n",
    "])\n",
    "\n",
    "# 加载数据集\n",
    "dataset = datasets.ImageFolder(root='./data', transform=transform)\n",
    "train_size = int(0.8 * len(dataset))\n",
    "val_size = int(0.1 * len(dataset))\n",
    "test_size = len(dataset) - train_size - val_size\n",
    "train_dataset, val_dataset, test_dataset = random_split(dataset, [train_size, val_size, test_size])\n",
    "\n",
    "train_loader = DataLoader(train_dataset, batch_size=batch_size, shuffle=True)\n",
    "val_loader = DataLoader(val_dataset, batch_size=batch_size, shuffle=False)\n",
    "test_loader = DataLoader(test_dataset, batch_size=batch_size, shuffle=False)"
   ]
  },
  {
   "cell_type": "code",
   "execution_count": 3,
   "metadata": {},
   "outputs": [],
   "source": [
    "# 定义模型、损失函数和优化器\n",
    "model = CustomCNN(num_classes=len(dataset.classes)).to('cuda')\n",
    "criterion = nn.CrossEntropyLoss()\n",
    "optimizer = optim.Adam(model.parameters(), lr=learning_rate)                #自己調整學習率，不會過度快速收斂"
   ]
  },
  {
   "cell_type": "code",
   "execution_count": 4,
   "metadata": {},
   "outputs": [
    {
     "name": "stdout",
     "output_type": "stream",
     "text": [
      "Epoch [1/20], Loss: 1.1172\n",
      "Validation Loss: 0.6674, Accuracy: 78.52%\n",
      "Epoch [2/20], Loss: 0.6144\n",
      "Validation Loss: 0.6541, Accuracy: 78.71%\n",
      "Epoch [3/20], Loss: 0.6030\n",
      "Validation Loss: 0.6683, Accuracy: 79.09%\n",
      "Epoch [4/20], Loss: 0.5840\n",
      "Validation Loss: 0.6518, Accuracy: 78.90%\n",
      "Epoch [5/20], Loss: 0.5946\n",
      "Validation Loss: 0.6427, Accuracy: 79.28%\n",
      "Epoch [6/20], Loss: 0.5839\n",
      "Validation Loss: 0.6558, Accuracy: 80.04%\n",
      "Epoch [7/20], Loss: 0.5775\n",
      "Validation Loss: 0.6508, Accuracy: 78.90%\n",
      "Epoch [8/20], Loss: 0.5721\n",
      "Validation Loss: 0.6483, Accuracy: 79.85%\n",
      "Epoch [9/20], Loss: 0.5764\n",
      "Validation Loss: 0.6579, Accuracy: 80.23%\n",
      "Epoch [10/20], Loss: 0.5728\n",
      "Validation Loss: 0.6541, Accuracy: 79.85%\n",
      "Epoch [11/20], Loss: 0.5540\n",
      "Validation Loss: 0.6745, Accuracy: 80.23%\n",
      "Epoch [12/20], Loss: 0.5474\n",
      "Validation Loss: 0.6763, Accuracy: 79.28%\n",
      "Epoch [13/20], Loss: 0.5508\n",
      "Validation Loss: 0.6618, Accuracy: 79.85%\n",
      "Epoch [14/20], Loss: 0.5428\n",
      "Validation Loss: 0.6698, Accuracy: 79.28%\n",
      "Epoch [15/20], Loss: 0.5511\n",
      "Validation Loss: 0.7238, Accuracy: 80.23%\n",
      "Epoch [16/20], Loss: 0.5475\n",
      "Validation Loss: 0.6727, Accuracy: 79.47%\n",
      "Epoch [17/20], Loss: 0.5312\n",
      "Validation Loss: 0.7054, Accuracy: 79.28%\n",
      "Epoch [18/20], Loss: 0.5283\n",
      "Validation Loss: 0.6548, Accuracy: 79.28%\n",
      "Epoch [19/20], Loss: 0.5236\n",
      "Validation Loss: 0.6568, Accuracy: 80.61%\n",
      "Epoch [20/20], Loss: 0.5131\n",
      "Validation Loss: 0.6708, Accuracy: 80.23%\n"
     ]
    }
   ],
   "source": [
    "# 训练模型\n",
    "for epoch in range(num_epochs):\n",
    "    model.train()\n",
    "    running_loss = 0.0\n",
    "    for inputs, labels in train_loader:\n",
    "        inputs, labels = inputs.to('cuda'), labels.to('cuda')\n",
    "        \n",
    "        optimizer.zero_grad()\n",
    "        \n",
    "        outputs = model(inputs)\n",
    "        loss = criterion(outputs, labels)\n",
    "        loss.backward()\n",
    "        optimizer.step()\n",
    "        \n",
    "        running_loss += loss.item()\n",
    "    \n",
    "    print(f'Epoch [{epoch+1}/{num_epochs}], Loss: {running_loss/len(train_loader):.4f}')\n",
    "    \n",
    "    # 验证模型\n",
    "    model.eval()\n",
    "    val_loss = 0.0\n",
    "    correct = 0\n",
    "    total = 0\n",
    "    with torch.no_grad():\n",
    "        for inputs, labels in val_loader:\n",
    "            inputs, labels = inputs.to('cuda'), labels.to('cuda')\n",
    "            \n",
    "            outputs = model(inputs)\n",
    "            loss = criterion(outputs, labels)\n",
    "            val_loss += loss.item()\n",
    "            \n",
    "            _, predicted = torch.max(outputs.data, 1)\n",
    "            total += labels.size(0)\n",
    "            correct += (predicted == labels).sum().item()\n",
    "    \n",
    "    print(f'Validation Loss: {val_loss/len(val_loader):.4f}, Accuracy: {100 * correct / total:.2f}%')"
   ]
  },
  {
   "cell_type": "code",
   "execution_count": 5,
   "metadata": {},
   "outputs": [
    {
     "name": "stdout",
     "output_type": "stream",
     "text": [
      "Test Loss: 0.5163, Accuracy: 83.11%\n"
     ]
    }
   ],
   "source": [
    "# 测试模型\n",
    "model.eval()\n",
    "test_loss = 0.0\n",
    "correct = 0\n",
    "total = 0\n",
    "with torch.no_grad():\n",
    "    for inputs, labels in test_loader:\n",
    "        inputs, labels = inputs.to('cuda'), labels.to('cuda')\n",
    "        \n",
    "        outputs = model(inputs)\n",
    "        loss = criterion(outputs, labels)\n",
    "        test_loss += loss.item()\n",
    "        \n",
    "        _, predicted = torch.max(outputs.data, 1)\n",
    "        total += labels.size(0)\n",
    "        correct += (predicted == labels).sum().item()\n",
    "\n",
    "print(f'Test Loss: {test_loss/len(test_loader):.4f}, Accuracy: {100 * correct / total:.2f}%')"
   ]
  },
  {
   "cell_type": "code",
   "execution_count": 6,
   "metadata": {},
   "outputs": [
    {
     "name": "stdout",
     "output_type": "stream",
     "text": [
      "F1 Score: 0.4278, Recall: 0.4036, Precision: 0.6870\n"
     ]
    },
    {
     "data": {
      "image/png": "[encoded data removed]",
      "text/plain": [
       "<Figure size 1000x800 with 2 Axes>"
      ]
     },
     "metadata": {},
     "output_type": "display_data"
    }
   ],
   "source": [
    "# 计算F1 score, recall, precision\n",
    "from sklearn.metrics import f1_score, recall_score, precision_score\n",
    "from sklearn.metrics import confusion_matrix, f1_score, recall_score, precision_score\n",
    "\n",
    "all_preds = []\n",
    "all_labels = []\n",
    "\n",
    "model.eval()\n",
    "with torch.no_grad():\n",
    "    for inputs, labels in test_loader:\n",
    "        inputs, labels = inputs.to('cuda'), labels.to('cuda')\n",
    "        \n",
    "        outputs = model(inputs)\n",
    "        _, predicted = torch.max(outputs.data, 1)\n",
    "        \n",
    "        all_preds.extend(predicted.cpu().numpy())\n",
    "        all_labels.extend(labels.cpu().numpy())\n",
    "\n",
    "f1 = f1_score(all_labels, all_preds, average='macro')\n",
    "recall = recall_score(all_labels, all_preds, average='macro')\n",
    "precision = precision_score(all_labels, all_preds, average='macro')\n",
    "\n",
    "print(f'F1 Score: {f1:.4f}, Recall: {recall:.4f}, Precision: {precision:.4f}')"
   ]
  }
 ],
 "metadata": {
  "kernelspec": {
   "display_name": "Python 3",
   "language": "python",
   "name": "python3"
  },
  "language_info": {
   "codemirror_mode": {
    "name": "ipython",
    "version": 3
   },
   "file_extension": ".py",
   "mimetype": "text/x-python",
   "name": "python",
   "nbconvert_exporter": "python",
   "pygments_lexer": "ipython3",
   "version": "3.11.9"
  }
 },
 "nbformat": 4,
 "nbformat_minor": 2
}
