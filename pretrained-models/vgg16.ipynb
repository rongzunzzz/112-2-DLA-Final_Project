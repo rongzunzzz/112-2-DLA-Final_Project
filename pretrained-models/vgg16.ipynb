{
  "cells": [
    {
      "cell_type": "code",
      "execution_count": 1,
      "metadata": {
        "id": "feLSGUi2PEUT"
      },
      "outputs": [],
      "source": [
        "import torch\n",
        "import torch.nn as nn\n",
        "import torch.optim as optim\n",
        "from torchvision import datasets, transforms, models\n",
        "from torch.utils.data import DataLoader, random_split\n",
        "import matplotlib.pyplot as plt\n",
        "import numpy as np\n",
        "from google.colab import drive\n",
        "from tqdm import tqdm"
      ]
    },
    {
      "cell_type": "code",
      "execution_count": 2,
      "metadata": {
        "colab": {
          "base_uri": "https://localhost:8080/"
        },
        "id": "EgX_MotqUKFV",
        "outputId": "db7a39e2-3987-4171-bbc9-5e472fde4855"
      },
      "outputs": [
        {
          "data": {
            "text/plain": [
              "device(type='cuda')"
            ]
          },
          "execution_count": 2,
          "metadata": {},
          "output_type": "execute_result"
        }
      ],
      "source": [
        "device = torch.device(\"cuda\" if torch.cuda.is_available() else \"cpu\")\n",
        "device"
      ]
    },
    {
      "cell_type": "code",
      "execution_count": 3,
      "metadata": {
        "colab": {
          "base_uri": "https://localhost:8080/"
        },
        "id": "S457Genbv3M5",
        "outputId": "54c418f0-7674-47f2-afc5-1ce939caa5bf"
      },
      "outputs": [
        {
          "name": "stdout",
          "output_type": "stream",
          "text": [
            "Fri May 24 05:30:07 2024       \n",
            "+---------------------------------------------------------------------------------------+\n",
            "| NVIDIA-SMI 535.104.05             Driver Version: 535.104.05   CUDA Version: 12.2     |\n",
            "|-----------------------------------------+----------------------+----------------------+\n",
            "| GPU  Name                 Persistence-M | Bus-Id        Disp.A | Volatile Uncorr. ECC |\n",
            "| Fan  Temp   Perf          Pwr:Usage/Cap |         Memory-Usage | GPU-Util  Compute M. |\n",
            "|                                         |                      |               MIG M. |\n",
            "|=========================================+======================+======================|\n",
            "|   0  Tesla T4                       Off | 00000000:00:04.0 Off |                    0 |\n",
            "| N/A   55C    P8              10W /  70W |      3MiB / 15360MiB |      0%      Default |\n",
            "|                                         |                      |                  N/A |\n",
            "+-----------------------------------------+----------------------+----------------------+\n",
            "                                                                                         \n",
            "+---------------------------------------------------------------------------------------+\n",
            "| Processes:                                                                            |\n",
            "|  GPU   GI   CI        PID   Type   Process name                            GPU Memory |\n",
            "|        ID   ID                                                             Usage      |\n",
            "|=======================================================================================|\n",
            "|  No running processes found                                                           |\n",
            "+---------------------------------------------------------------------------------------+\n"
          ]
        }
      ],
      "source": [
        "!nvidia-smi"
      ]
    },
    {
      "cell_type": "code",
      "execution_count": 4,
      "metadata": {
        "colab": {
          "base_uri": "https://localhost:8080/"
        },
        "id": "e9yKV0g-VWWi",
        "outputId": "a5ef4b4e-b0d8-4080-bdd7-803cc4aa38c5"
      },
      "outputs": [
        {
          "name": "stdout",
          "output_type": "stream",
          "text": [
            "Mounted at /content/drive\n"
          ]
        }
      ],
      "source": [
        "# Mount Google Drive\n",
        "drive.mount('/content/drive')"
      ]
    },
    {
      "cell_type": "code",
      "execution_count": 5,
      "metadata": {
        "colab": {
          "base_uri": "https://localhost:8080/",
          "height": 35
        },
        "id": "Sfls5HktUCqQ",
        "outputId": "847b5d4c-c850-4bb2-ef70-9b2e818f1de3"
      },
      "outputs": [
        {
          "data": {
            "application/vnd.google.colaboratory.intrinsic+json": {
              "type": "string"
            },
            "text/plain": [
              "'/content/drive/MyDrive/Colab/112-2-DLA/final/data'"
            ]
          },
          "execution_count": 5,
          "metadata": {},
          "output_type": "execute_result"
        }
      ],
      "source": [
        "# Directories\n",
        "data_dir = '/content/drive/MyDrive/Colab/112-2-DLA/final/data'\n",
        "data_dir"
      ]
    },
    {
      "cell_type": "code",
      "execution_count": 6,
      "metadata": {
        "id": "x4EvRkLjp1xr"
      },
      "outputs": [],
      "source": [
        "config = {\n",
        "    'train_ratio': 0.8,\n",
        "    'valid_ratio': 0.1,\n",
        "    'test_ratio': 0.1,\n",
        "    'batch_size': 64,\n",
        "    'num_epochs': 30,\n",
        "}"
      ]
    },
    {
      "cell_type": "code",
      "execution_count": 7,
      "metadata": {
        "colab": {
          "base_uri": "https://localhost:8080/"
        },
        "id": "MCN2sy9ZT9-p",
        "outputId": "6610b7d7-6966-4591-a62c-ab816e48fb61"
      },
      "outputs": [
        {
          "data": {
            "text/plain": [
              "Dataset ImageFolder\n",
              "    Number of datapoints: 5250\n",
              "    Root location: /content/drive/MyDrive/Colab/112-2-DLA/final/data\n",
              "    StandardTransform\n",
              "Transform: Compose(\n",
              "               RandomResizedCrop(size=(224, 224), scale=(0.08, 1.0), ratio=(0.75, 1.3333), interpolation=bilinear, antialias=True)\n",
              "               RandomHorizontalFlip(p=0.5)\n",
              "               ToTensor()\n",
              "               Normalize(mean=[0.485, 0.456, 0.406], std=[0.229, 0.224, 0.225])\n",
              "           )"
            ]
          },
          "execution_count": 7,
          "metadata": {},
          "output_type": "execute_result"
        }
      ],
      "source": [
        "# Data transforms\n",
        "data_transforms = transforms.Compose([\n",
        "    transforms.RandomResizedCrop(224),\n",
        "    transforms.RandomHorizontalFlip(),\n",
        "    transforms.ToTensor(),\n",
        "    transforms.Normalize([0.485, 0.456, 0.406], [0.229, 0.224, 0.225])\n",
        "])\n",
        "\n",
        "# Load dataset\n",
        "full_dataset = datasets.ImageFolder(data_dir, data_transforms)\n",
        "full_dataset"
      ]
    },
    {
      "cell_type": "code",
      "execution_count": 8,
      "metadata": {
        "colab": {
          "base_uri": "https://localhost:8080/"
        },
        "id": "De7V42_VV70C",
        "outputId": "0793c1f0-1dac-4d45-a93c-d36b3fd15cda"
      },
      "outputs": [
        {
          "data": {
            "text/plain": [
              "['battery',\n",
              " 'glass',\n",
              " 'metal',\n",
              " 'normal plastic',\n",
              " 'paper',\n",
              " 'paper container',\n",
              " 'plastic bottle']"
            ]
          },
          "execution_count": 8,
          "metadata": {},
          "output_type": "execute_result"
        }
      ],
      "source": [
        "from sklearn.model_selection import StratifiedShuffleSplit\n",
        "import numpy as np\n",
        "from torch.utils.data import DataLoader, Subset\n",
        "\n",
        "# Assuming full_dataset is a torchvision dataset or similar\n",
        "targets = np.array(full_dataset.targets)  # Extract the target labels\n",
        "\n",
        "# Define the split ratios\n",
        "train_ratio, val_ratio = config['train_ratio'], config['valid_ratio']\n",
        "test_ratio = 1 - train_ratio - val_ratio\n",
        "\n",
        "# First stratified split to get training set and temporary set (validation + test)\n",
        "sss_train = StratifiedShuffleSplit(n_splits=1, test_size=1 - train_ratio, random_state=42)\n",
        "train_idx, temp_idx = next(sss_train.split(np.zeros(len(targets)), targets))\n",
        "\n",
        "# Extract the targets for the temporary set\n",
        "temp_targets = targets[temp_idx]\n",
        "\n",
        "# Second stratified split to split the temporary set into validation and test sets\n",
        "sss_val_test = StratifiedShuffleSplit(n_splits=1, test_size=test_ratio/(val_ratio + test_ratio), random_state=620)\n",
        "val_idx, test_idx = next(sss_val_test.split(np.zeros(len(temp_targets)), temp_targets))\n",
        "\n",
        "# Map the indices back to the original dataset\n",
        "val_idx = temp_idx[val_idx]\n",
        "test_idx = temp_idx[test_idx]\n",
        "\n",
        "# Create the Subsets\n",
        "train_dataset = Subset(full_dataset, train_idx)\n",
        "val_dataset = Subset(full_dataset, val_idx)\n",
        "test_dataset = Subset(full_dataset, test_idx)\n",
        "\n",
        "# Data loaders\n",
        "train_loader = DataLoader(train_dataset, batch_size=config['batch_size'], shuffle=True, num_workers=2)\n",
        "val_loader = DataLoader(val_dataset, batch_size=config['batch_size'], shuffle=False, num_workers=2)\n",
        "test_loader = DataLoader(test_dataset, batch_size=config['batch_size'], shuffle=False, num_workers=2)\n",
        "\n",
        "# Dataloaders and dataset sizes\n",
        "dataloaders = {'train': train_loader, 'val': val_loader, 'test': test_loader}\n",
        "dataset_sizes = {'train': len(train_dataset), 'val': len(val_dataset), 'test': len(test_dataset)}\n",
        "\n",
        "# Class names\n",
        "class_names = full_dataset.classes\n",
        "class_names"
      ]
    },
    {
      "cell_type": "code",
      "execution_count": 9,
      "metadata": {
        "colab": {
          "base_uri": "https://localhost:8080/"
        },
        "id": "L_OvO4AEVuvs",
        "outputId": "a19bb82f-299c-45f0-b5ba-8cb6a6f0d389"
      },
      "outputs": [
        {
          "name": "stderr",
          "output_type": "stream",
          "text": [
            "Downloading: \"https://download.pytorch.org/models/vgg16-397923af.pth\" to /root/.cache/torch/hub/checkpoints/vgg16-397923af.pth\n",
            "100%|██████████| 528M/528M [00:03<00:00, 175MB/s]\n"
          ]
        }
      ],
      "source": [
        "# Model\n",
        "from torchvision.models import VGG16_Weights\n",
        "\n",
        "model = models.vgg16(weights=VGG16_Weights.DEFAULT)\n",
        "num_ftrs = model.classifier[6].in_features\n",
        "model.classifier[6] = nn.Linear(num_ftrs, len(class_names))\n",
        "model = model.to(device)\n",
        "\n",
        "# Loss and optimizer\n",
        "criterion = nn.CrossEntropyLoss()\n",
        "optimizer = optim.SGD(model.parameters(), lr=0.001, momentum=0.9)"
      ]
    },
    {
      "cell_type": "code",
      "execution_count": 10,
      "metadata": {
        "colab": {
          "base_uri": "https://localhost:8080/"
        },
        "id": "O4Fhg2WyVutF",
        "outputId": "3920c9e2-e72e-4299-e332-900707478ab6"
      },
      "outputs": [
        {
          "name": "stdout",
          "output_type": "stream",
          "text": [
            "Epoch 0/29\n"
          ]
        },
        {
          "name": "stderr",
          "output_type": "stream",
          "text": []
        },
        {
          "name": "stdout",
          "output_type": "stream",
          "text": [
            "train Loss: 0.9625 Acc: 0.6548\n"
          ]
        },
        {
          "name": "stderr",
          "output_type": "stream",
          "text": []
        },
        {
          "name": "stdout",
          "output_type": "stream",
          "text": [
            "val Loss: 0.5217 Acc: 0.8190\n",
            "Epoch 1/29\n"
          ]
        },
        {
          "name": "stderr",
          "output_type": "stream",
          "text": []
        },
        {
          "name": "stdout",
          "output_type": "stream",
          "text": [
            "train Loss: 0.4799 Acc: 0.8345\n"
          ]
        },
        {
          "name": "stderr",
          "output_type": "stream",
          "text": []
        },
        {
          "name": "stdout",
          "output_type": "stream",
          "text": [
            "val Loss: 0.4575 Acc: 0.8362\n",
            "Epoch 2/29\n"
          ]
        },
        {
          "name": "stderr",
          "output_type": "stream",
          "text": []
        },
        {
          "name": "stdout",
          "output_type": "stream",
          "text": [
            "train Loss: 0.4089 Acc: 0.8567\n"
          ]
        },
        {
          "name": "stderr",
          "output_type": "stream",
          "text": []
        },
        {
          "name": "stdout",
          "output_type": "stream",
          "text": [
            "val Loss: 0.3592 Acc: 0.8705\n",
            "Epoch 3/29\n"
          ]
        },
        {
          "name": "stderr",
          "output_type": "stream",
          "text": []
        },
        {
          "name": "stdout",
          "output_type": "stream",
          "text": [
            "train Loss: 0.3481 Acc: 0.8740\n"
          ]
        },
        {
          "name": "stderr",
          "output_type": "stream",
          "text": []
        },
        {
          "name": "stdout",
          "output_type": "stream",
          "text": [
            "val Loss: 0.3351 Acc: 0.8914\n",
            "Epoch 4/29\n"
          ]
        },
        {
          "name": "stderr",
          "output_type": "stream",
          "text": []
        },
        {
          "name": "stdout",
          "output_type": "stream",
          "text": [
            "train Loss: 0.3326 Acc: 0.8857\n"
          ]
        },
        {
          "name": "stderr",
          "output_type": "stream",
          "text": []
        },
        {
          "name": "stdout",
          "output_type": "stream",
          "text": [
            "val Loss: 0.2956 Acc: 0.8933\n",
            "Epoch 5/29\n"
          ]
        },
        {
          "name": "stderr",
          "output_type": "stream",
          "text": []
        },
        {
          "name": "stdout",
          "output_type": "stream",
          "text": [
            "train Loss: 0.2751 Acc: 0.9071\n"
          ]
        },
        {
          "name": "stderr",
          "output_type": "stream",
          "text": []
        },
        {
          "name": "stdout",
          "output_type": "stream",
          "text": [
            "val Loss: 0.3123 Acc: 0.8990\n",
            "Epoch 6/29\n"
          ]
        },
        {
          "name": "stderr",
          "output_type": "stream",
          "text": []
        },
        {
          "name": "stdout",
          "output_type": "stream",
          "text": [
            "train Loss: 0.2713 Acc: 0.9048\n"
          ]
        },
        {
          "name": "stderr",
          "output_type": "stream",
          "text": []
        },
        {
          "name": "stdout",
          "output_type": "stream",
          "text": [
            "val Loss: 0.2699 Acc: 0.9105\n",
            "Epoch 7/29\n"
          ]
        },
        {
          "name": "stderr",
          "output_type": "stream",
          "text": []
        },
        {
          "name": "stdout",
          "output_type": "stream",
          "text": [
            "train Loss: 0.2331 Acc: 0.9200\n"
          ]
        },
        {
          "name": "stderr",
          "output_type": "stream",
          "text": []
        },
        {
          "name": "stdout",
          "output_type": "stream",
          "text": [
            "val Loss: 0.3125 Acc: 0.8971\n",
            "Epoch 8/29\n"
          ]
        },
        {
          "name": "stderr",
          "output_type": "stream",
          "text": []
        },
        {
          "name": "stdout",
          "output_type": "stream",
          "text": [
            "train Loss: 0.2253 Acc: 0.9260\n"
          ]
        },
        {
          "name": "stderr",
          "output_type": "stream",
          "text": []
        },
        {
          "name": "stdout",
          "output_type": "stream",
          "text": [
            "val Loss: 0.2449 Acc: 0.9067\n",
            "Epoch 9/29\n"
          ]
        },
        {
          "name": "stderr",
          "output_type": "stream",
          "text": []
        },
        {
          "name": "stdout",
          "output_type": "stream",
          "text": [
            "train Loss: 0.1913 Acc: 0.9333\n"
          ]
        },
        {
          "name": "stderr",
          "output_type": "stream",
          "text": []
        },
        {
          "name": "stdout",
          "output_type": "stream",
          "text": [
            "val Loss: 0.1948 Acc: 0.9448\n",
            "Epoch 10/29\n"
          ]
        },
        {
          "name": "stderr",
          "output_type": "stream",
          "text": []
        },
        {
          "name": "stdout",
          "output_type": "stream",
          "text": [
            "train Loss: 0.1935 Acc: 0.9321\n"
          ]
        },
        {
          "name": "stderr",
          "output_type": "stream",
          "text": []
        },
        {
          "name": "stdout",
          "output_type": "stream",
          "text": [
            "val Loss: 0.2567 Acc: 0.9200\n",
            "Epoch 11/29\n"
          ]
        },
        {
          "name": "stderr",
          "output_type": "stream",
          "text": []
        },
        {
          "name": "stdout",
          "output_type": "stream",
          "text": [
            "train Loss: 0.1898 Acc: 0.9324\n"
          ]
        },
        {
          "name": "stderr",
          "output_type": "stream",
          "text": []
        },
        {
          "name": "stdout",
          "output_type": "stream",
          "text": [
            "val Loss: 0.2370 Acc: 0.9181\n",
            "Epoch 12/29\n"
          ]
        },
        {
          "name": "stderr",
          "output_type": "stream",
          "text": []
        },
        {
          "name": "stdout",
          "output_type": "stream",
          "text": [
            "train Loss: 0.1810 Acc: 0.9298\n"
          ]
        },
        {
          "name": "stderr",
          "output_type": "stream",
          "text": []
        },
        {
          "name": "stdout",
          "output_type": "stream",
          "text": [
            "val Loss: 0.2213 Acc: 0.9371\n",
            "Epoch 13/29\n"
          ]
        },
        {
          "name": "stderr",
          "output_type": "stream",
          "text": []
        },
        {
          "name": "stdout",
          "output_type": "stream",
          "text": [
            "train Loss: 0.1875 Acc: 0.9307\n"
          ]
        },
        {
          "name": "stderr",
          "output_type": "stream",
          "text": []
        },
        {
          "name": "stdout",
          "output_type": "stream",
          "text": [
            "val Loss: 0.2082 Acc: 0.9200\n",
            "Epoch 14/29\n"
          ]
        },
        {
          "name": "stderr",
          "output_type": "stream",
          "text": []
        },
        {
          "name": "stdout",
          "output_type": "stream",
          "text": [
            "train Loss: 0.1555 Acc: 0.9462\n"
          ]
        },
        {
          "name": "stderr",
          "output_type": "stream",
          "text": []
        },
        {
          "name": "stdout",
          "output_type": "stream",
          "text": [
            "val Loss: 0.2339 Acc: 0.9219\n",
            "Epoch 15/29\n"
          ]
        },
        {
          "name": "stderr",
          "output_type": "stream",
          "text": []
        },
        {
          "name": "stdout",
          "output_type": "stream",
          "text": [
            "train Loss: 0.1644 Acc: 0.9464\n"
          ]
        },
        {
          "name": "stderr",
          "output_type": "stream",
          "text": []
        },
        {
          "name": "stdout",
          "output_type": "stream",
          "text": [
            "val Loss: 0.2287 Acc: 0.9257\n",
            "Epoch 16/29\n"
          ]
        },
        {
          "name": "stderr",
          "output_type": "stream",
          "text": []
        },
        {
          "name": "stdout",
          "output_type": "stream",
          "text": [
            "train Loss: 0.1741 Acc: 0.9419\n"
          ]
        },
        {
          "name": "stderr",
          "output_type": "stream",
          "text": []
        },
        {
          "name": "stdout",
          "output_type": "stream",
          "text": [
            "val Loss: 0.2126 Acc: 0.9295\n",
            "Epoch 17/29\n"
          ]
        },
        {
          "name": "stderr",
          "output_type": "stream",
          "text": []
        },
        {
          "name": "stdout",
          "output_type": "stream",
          "text": [
            "train Loss: 0.1350 Acc: 0.9545\n"
          ]
        },
        {
          "name": "stderr",
          "output_type": "stream",
          "text": []
        },
        {
          "name": "stdout",
          "output_type": "stream",
          "text": [
            "val Loss: 0.1860 Acc: 0.9314\n",
            "Epoch 18/29\n"
          ]
        },
        {
          "name": "stderr",
          "output_type": "stream",
          "text": []
        },
        {
          "name": "stdout",
          "output_type": "stream",
          "text": [
            "train Loss: 0.1453 Acc: 0.9500\n"
          ]
        },
        {
          "name": "stderr",
          "output_type": "stream",
          "text": []
        },
        {
          "name": "stdout",
          "output_type": "stream",
          "text": [
            "val Loss: 0.2230 Acc: 0.9314\n",
            "Epoch 19/29\n"
          ]
        },
        {
          "name": "stderr",
          "output_type": "stream",
          "text": []
        },
        {
          "name": "stdout",
          "output_type": "stream",
          "text": [
            "train Loss: 0.1343 Acc: 0.9529\n"
          ]
        },
        {
          "name": "stderr",
          "output_type": "stream",
          "text": []
        },
        {
          "name": "stdout",
          "output_type": "stream",
          "text": [
            "val Loss: 0.1987 Acc: 0.9371\n",
            "Epoch 20/29\n"
          ]
        },
        {
          "name": "stderr",
          "output_type": "stream",
          "text": []
        },
        {
          "name": "stdout",
          "output_type": "stream",
          "text": [
            "train Loss: 0.1494 Acc: 0.9464\n"
          ]
        },
        {
          "name": "stderr",
          "output_type": "stream",
          "text": []
        },
        {
          "name": "stdout",
          "output_type": "stream",
          "text": [
            "val Loss: 0.2781 Acc: 0.9124\n",
            "Epoch 21/29\n"
          ]
        },
        {
          "name": "stderr",
          "output_type": "stream",
          "text": []
        },
        {
          "name": "stdout",
          "output_type": "stream",
          "text": [
            "train Loss: 0.1304 Acc: 0.9510\n"
          ]
        },
        {
          "name": "stderr",
          "output_type": "stream",
          "text": []
        },
        {
          "name": "stdout",
          "output_type": "stream",
          "text": [
            "val Loss: 0.1631 Acc: 0.9448\n",
            "Epoch 22/29\n"
          ]
        },
        {
          "name": "stderr",
          "output_type": "stream",
          "text": []
        },
        {
          "name": "stdout",
          "output_type": "stream",
          "text": [
            "train Loss: 0.1408 Acc: 0.9486\n"
          ]
        },
        {
          "name": "stderr",
          "output_type": "stream",
          "text": []
        },
        {
          "name": "stdout",
          "output_type": "stream",
          "text": [
            "val Loss: 0.2062 Acc: 0.9352\n",
            "Epoch 23/29\n"
          ]
        },
        {
          "name": "stderr",
          "output_type": "stream",
          "text": []
        },
        {
          "name": "stdout",
          "output_type": "stream",
          "text": [
            "train Loss: 0.1308 Acc: 0.9557\n"
          ]
        },
        {
          "name": "stderr",
          "output_type": "stream",
          "text": []
        },
        {
          "name": "stdout",
          "output_type": "stream",
          "text": [
            "val Loss: 0.2168 Acc: 0.9219\n",
            "Epoch 24/29\n"
          ]
        },
        {
          "name": "stderr",
          "output_type": "stream",
          "text": []
        },
        {
          "name": "stdout",
          "output_type": "stream",
          "text": [
            "train Loss: 0.1241 Acc: 0.9576\n"
          ]
        },
        {
          "name": "stderr",
          "output_type": "stream",
          "text": []
        },
        {
          "name": "stdout",
          "output_type": "stream",
          "text": [
            "val Loss: 0.2463 Acc: 0.9238\n",
            "Epoch 25/29\n"
          ]
        },
        {
          "name": "stderr",
          "output_type": "stream",
          "text": []
        },
        {
          "name": "stdout",
          "output_type": "stream",
          "text": [
            "train Loss: 0.1132 Acc: 0.9598\n"
          ]
        },
        {
          "name": "stderr",
          "output_type": "stream",
          "text": []
        },
        {
          "name": "stdout",
          "output_type": "stream",
          "text": [
            "val Loss: 0.1860 Acc: 0.9467\n",
            "Epoch 26/29\n"
          ]
        },
        {
          "name": "stderr",
          "output_type": "stream",
          "text": []
        },
        {
          "name": "stdout",
          "output_type": "stream",
          "text": [
            "train Loss: 0.1235 Acc: 0.9586\n"
          ]
        },
        {
          "name": "stderr",
          "output_type": "stream",
          "text": []
        },
        {
          "name": "stdout",
          "output_type": "stream",
          "text": [
            "val Loss: 0.2388 Acc: 0.9219\n",
            "Epoch 27/29\n"
          ]
        },
        {
          "name": "stderr",
          "output_type": "stream",
          "text": []
        },
        {
          "name": "stdout",
          "output_type": "stream",
          "text": [
            "train Loss: 0.1098 Acc: 0.9624\n"
          ]
        },
        {
          "name": "stderr",
          "output_type": "stream",
          "text": []
        },
        {
          "name": "stdout",
          "output_type": "stream",
          "text": [
            "val Loss: 0.2095 Acc: 0.9257\n",
            "Epoch 28/29\n"
          ]
        },
        {
          "name": "stderr",
          "output_type": "stream",
          "text": []
        },
        {
          "name": "stdout",
          "output_type": "stream",
          "text": [
            "train Loss: 0.1129 Acc: 0.9624\n"
          ]
        },
        {
          "name": "stderr",
          "output_type": "stream",
          "text": []
        },
        {
          "name": "stdout",
          "output_type": "stream",
          "text": [
            "val Loss: 0.1776 Acc: 0.9390\n",
            "Epoch 29/29\n"
          ]
        },
        {
          "name": "stderr",
          "output_type": "stream",
          "text": []
        },
        {
          "name": "stdout",
          "output_type": "stream",
          "text": [
            "train Loss: 0.1160 Acc: 0.9564\n"
          ]
        },
        {
          "name": "stderr",
          "output_type": "stream",
          "text": [
            "                                                              "
          ]
        },
        {
          "name": "stdout",
          "output_type": "stream",
          "text": [
            "val Loss: 0.1778 Acc: 0.9276\n",
            "Best val Acc: 0.9467\n"
          ]
        },
        {
          "name": "stderr",
          "output_type": "stream",
          "text": [
            "\r"
          ]
        }
      ],
      "source": [
        "def train_model(model, criterion, optimizer, num_epochs=25):\n",
        "    best_model_wts = model.state_dict()\n",
        "    best_val_acc = 0.0\n",
        "    train_losses = []\n",
        "    val_losses = []\n",
        "    train_accs = []\n",
        "    val_accs = []\n",
        "\n",
        "    for epoch in range(num_epochs):\n",
        "        print(f'Epoch {epoch}/{num_epochs - 1}')\n",
        "        # print('-' * 10)\n",
        "\n",
        "        for phase in ['train', 'val']:\n",
        "            if phase == 'train':\n",
        "                model.train()\n",
        "            else:\n",
        "                model.eval()\n",
        "\n",
        "            running_loss = 0.0\n",
        "            running_corrects = 0\n",
        "            total_samples = 0\n",
        "\n",
        "            for inputs, labels in tqdm(dataloaders[phase], desc=f'{phase} Epoch {epoch}/{num_epochs - 1}', leave=False):\n",
        "                inputs = inputs.to(device)\n",
        "                labels = labels.to(device)\n",
        "\n",
        "                optimizer.zero_grad()\n",
        "\n",
        "                with torch.set_grad_enabled(phase == 'train'):\n",
        "                    outputs = model(inputs)\n",
        "                    _, preds = torch.max(outputs, 1)\n",
        "                    loss = criterion(outputs, labels)\n",
        "\n",
        "                    if phase == 'train':\n",
        "                        loss.backward()\n",
        "                        optimizer.step()\n",
        "\n",
        "                running_loss += loss.item() * inputs.size(0)\n",
        "                running_corrects += torch.sum(preds == labels.data)\n",
        "                total_samples += labels.size(0)\n",
        "\n",
        "            epoch_loss = running_loss / total_samples\n",
        "            epoch_acc = running_corrects.double() / total_samples\n",
        "\n",
        "            if phase == 'train':\n",
        "                train_losses.append(epoch_loss)\n",
        "                train_accs.append(epoch_acc.cpu().item())  # Ensure it's on CPU and convert to item\n",
        "            else:\n",
        "                val_losses.append(epoch_loss)\n",
        "                val_accs.append(epoch_acc.cpu().item())  # Ensure it's on CPU and convert to item\n",
        "                if epoch_acc > best_val_acc:\n",
        "                    best_val_acc = epoch_acc\n",
        "                    best_model_wts = model.state_dict()\n",
        "\n",
        "            print(f'{phase} Loss: {epoch_loss:.4f} Acc: {epoch_acc:.4f}')\n",
        "\n",
        "    print(f'Best val Acc: {best_val_acc:.4f}')\n",
        "\n",
        "    model.load_state_dict(best_model_wts)\n",
        "    return model, train_losses, val_losses, train_accs, val_accs\n",
        "\n",
        "# Train model\n",
        "model, train_losses, val_losses, train_accs, val_accs = train_model(model, criterion, optimizer, num_epochs=config['num_epochs'])\n"
      ]
    },
    {
      "cell_type": "code",
      "execution_count": 11,
      "metadata": {
        "colab": {
          "base_uri": "https://localhost:8080/",
          "height": 487
        },
        "id": "iZuYATehlGAP",
        "outputId": "c5ad7bbf-363c-47c1-8ae4-04411cbccd8c"
      },
      "outputs": [
        {
          "data": {
            "image/png": "[encoded data removed]",
            "text/plain": [
              "<Figure size 1200x500 with 2 Axes>"
            ]
          },
          "metadata": {},
          "output_type": "display_data"
        }
      ],
      "source": [
        "# Plot loss and accuracy curves\n",
        "plt.figure(figsize=(12, 5))\n",
        "plt.subplot(1, 2, 1)\n",
        "plt.plot(range(1, len(train_losses) + 1), train_losses, label='Training Loss')\n",
        "plt.plot(range(1, len(val_losses) + 1), val_losses, label='Validation Loss')\n",
        "plt.xlabel('Epochs')\n",
        "plt.ylabel('Loss')\n",
        "plt.title('Training and Validation Loss')\n",
        "plt.legend()\n",
        "\n",
        "plt.subplot(1, 2, 2)\n",
        "plt.plot(range(1, len(train_accs) + 1), train_accs, label='Training Accuracy')\n",
        "plt.plot(range(1, len(val_accs) + 1), val_accs, label='Validation Accuracy')\n",
        "plt.xlabel('Epochs')\n",
        "plt.ylabel('Accuracy')\n",
        "plt.title('Training and Validation Accuracy')\n",
        "plt.legend()\n",
        "\n",
        "plt.show()\n"
      ]
    },
    {
      "cell_type": "code",
      "execution_count": 12,
      "metadata": {
        "colab": {
          "base_uri": "https://localhost:8080/",
          "height": 1000
        },
        "id": "M7_tk4Y2Vuq3",
        "outputId": "761ce184-87bf-4c4d-bd64-83f89394789e"
      },
      "outputs": [
        {
          "name": "stderr",
          "output_type": "stream",
          "text": []
        },
        {
          "name": "stdout",
          "output_type": "stream",
          "text": [
            "Test Loss: 0.2189 Acc: 0.9410\n"
          ]
        },
        {
          "data": {
            "image/png": "[encoded data removed]",
            "text/plain": [
              "<Figure size 1000x800 with 2 Axes>"
            ]
          },
          "metadata": {},
          "output_type": "display_data"
        },
        {
          "name": "stdout",
          "output_type": "stream",
          "text": [
            "\n",
            "Classification Report:\n",
            "                 precision    recall  f1-score   support\n",
            "\n",
            "        battery       0.99      1.00      0.99        75\n",
            "          glass       0.94      0.87      0.90        75\n",
            "          metal       0.87      0.96      0.91        75\n",
            " normal plastic       0.93      0.84      0.88        75\n",
            "          paper       0.95      1.00      0.97        75\n",
            "paper container       0.95      0.95      0.95        75\n",
            " plastic bottle       0.97      0.97      0.97        75\n",
            "\n",
            "       accuracy                           0.94       525\n",
            "      macro avg       0.94      0.94      0.94       525\n",
            "   weighted avg       0.94      0.94      0.94       525\n",
            "\n",
            "Weighted F1 Score: 0.9404\n",
            "Macro-average F1 Score: 0.9404\n",
            "Micro-average F1 Score: 0.9410\n"
          ]
        }
      ],
      "source": [
        "from sklearn.metrics import confusion_matrix, classification_report, f1_score\n",
        "from sklearn.metrics import accuracy_score, precision_recall_fscore_support, confusion_matrix\n",
        "import seaborn as sns\n",
        "\n",
        "# Evaluate model on the test set\n",
        "def evaluate_model(model, dataloader):\n",
        "    model.eval()\n",
        "    running_corrects = 0\n",
        "    running_loss = 0.0\n",
        "    all_labels = []\n",
        "    all_preds = []\n",
        "\n",
        "    with torch.no_grad():\n",
        "        for inputs, labels in tqdm(dataloader, desc='Evaluating', leave=False):\n",
        "            inputs = inputs.to(device)\n",
        "            labels = labels.to(device)\n",
        "\n",
        "            outputs = model(inputs)\n",
        "            _, preds = torch.max(outputs, 1)\n",
        "            loss = criterion(outputs, labels)\n",
        "\n",
        "            running_loss += loss.item() * inputs.size(0)\n",
        "            running_corrects += torch.sum(preds == labels.data)\n",
        "\n",
        "            all_labels.extend(labels.cpu().numpy())\n",
        "            all_preds.extend(preds.cpu().numpy())\n",
        "\n",
        "    loss = running_loss / len(dataloader.dataset)\n",
        "    acc = running_corrects.double() / len(dataloader.dataset)\n",
        "\n",
        "    print(f'Test Loss: {loss:.4f} Acc: {acc:.4f}')\n",
        "\n",
        "    return all_labels, all_preds\n",
        "\n",
        "# Evaluate on the test set\n",
        "all_labels, all_preds = evaluate_model(model, dataloaders['test'])\n",
        "\n",
        "# Confusion Matrix\n",
        "conf_matrix = confusion_matrix(all_labels, all_preds)\n",
        "plt.figure(figsize=(10, 8))\n",
        "sns.heatmap(conf_matrix, annot=True, fmt='d', cmap='Blues', xticklabels=class_names, yticklabels=class_names)\n",
        "plt.xlabel('Predicted')\n",
        "plt.ylabel('True')\n",
        "plt.title('Confusion Matrix')\n",
        "plt.show()\n",
        "\n",
        "# Classification Report\n",
        "class_report = classification_report(all_labels, all_preds, target_names=class_names)\n",
        "print('\\nClassification Report:')\n",
        "print(class_report)\n",
        "\n",
        "# F1 Score\n",
        "f1 = f1_score(all_labels, all_preds, average='weighted')\n",
        "print(f'Weighted F1 Score: {f1:.4f}')\n",
        "\n",
        "# Macro- and Micro-average F1 Scores\n",
        "macro_f1 = f1_score(all_labels, all_preds, average='macro')\n",
        "micro_f1 = f1_score(all_labels, all_preds, average='micro')\n",
        "print(f'Macro-average F1 Score: {macro_f1:.4f}')\n",
        "print(f'Micro-average F1 Score: {micro_f1:.4f}')"
      ]
    },
    {
      "cell_type": "code",
      "execution_count": 13,
      "metadata": {
        "id": "u61pJLCMVum1"
      },
      "outputs": [],
      "source": [
        "# Save model\n",
        "torch.save(model.state_dict(), '/content/drive/MyDrive/Colab/112-2-DLA/final/vgg16.ckpt')"
      ]
    },
    {
      "cell_type": "markdown",
      "metadata": {
        "id": "pm_9OrxwZF69"
      },
      "source": []
    },
    {
      "cell_type": "markdown",
      "metadata": {
        "id": "DtaJCsq5T9cX"
      },
      "source": []
    }
  ],
  "metadata": {
    "accelerator": "GPU",
    "colab": {
      "gpuType": "T4",
      "provenance": []
    },
    "kernelspec": {
      "display_name": "Python 3",
      "name": "python3"
    },
    "language_info": {
      "name": "python"
    }
  },
  "nbformat": 4,
  "nbformat_minor": 0
}
